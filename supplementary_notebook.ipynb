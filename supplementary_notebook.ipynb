{
 "cells": [
  {
   "cell_type": "markdown",
   "metadata": {
    "colab_type": "text",
    "id": "y2ELyx-Xyo1w"
   },
   "source": [
    "### Imports (requiring github login) and plot utils"
   ]
  },
  {
   "cell_type": "code",
   "execution_count": 1,
   "metadata": {
    "cellView": "both",
    "colab": {
     "base_uri": "https://localhost:8080/",
     "height": 248
    },
    "colab_type": "code",
    "id": "yKnlmcY9eQJk",
    "outputId": "50b0a5a5-2df8-4263-e9f6-957f71bdf4ad"
   },
   "outputs": [],
   "source": [
    "!pip -q install -r requirements.txt\n",
    "!pip -q install ."
   ]
  },
  {
   "cell_type": "code",
   "execution_count": 2,
   "metadata": {
    "colab": {
     "base_uri": "https://localhost:8080/",
     "height": 72
    },
    "colab_type": "code",
    "id": "PKMmriLHd7a0",
    "outputId": "585b35ea-6e43-4453-bfc4-08bd55efadff"
   },
   "outputs": [],
   "source": [
    "import jax.numpy as np\n",
    "from jax import random\n",
    "from jax import vmap\n",
    "\n",
    "import functools\n",
    "\n",
    "from bayesian_ntk.utils import get_toy_data\n",
    "from bayesian_ntk.models import homoscedastic_model\n",
    "from bayesian_ntk.train import train_model\n",
    "from bayesian_ntk.predict import Gaussian\n",
    "from bayesian_ntk import predict, config, train_utils\n",
    "\n",
    "from IPython.display import set_matplotlib_formats\n",
    "set_matplotlib_formats('pdf', 'svg')\n",
    "import matplotlib\n",
    "import seaborn as sns\n",
    "sns.set(font_scale=1.3)\n",
    "sns.set_style(\"darkgrid\", {\"axes.facecolor\": \".95\"})\n",
    "import matplotlib.pyplot as plt"
   ]
  },
  {
   "cell_type": "code",
   "execution_count": 3,
   "metadata": {
    "colab": {},
    "colab_type": "code",
    "id": "h0rHIC0sd7a6"
   },
   "outputs": [],
   "source": [
    "def format_plot(x=None, y=None):\n",
    "    ax = plt.gca()\n",
    "    if x is not None:\n",
    "        plt.xlabel(x, fontsize=20)\n",
    "    if y is not None:\n",
    "        plt.ylabel(y, fontsize=20)\n",
    "\n",
    "def finalize_plot(shape=(1, 1)):\n",
    "    plt.gcf().set_size_inches(\n",
    "        shape[0] * 1.5 * plt.gcf().get_size_inches()[1],\n",
    "        shape[1] * 1.5 * plt.gcf().get_size_inches()[1])\n",
    "    plt.tight_layout()\n",
    "    \n",
    "def plot_fn(train, test, *fs):\n",
    "    train_xs, train_ys = train\n",
    "\n",
    "    plt.plot(train_xs, train_ys, 'go', markersize=7, label='train')\n",
    "\n",
    "    if test != None:\n",
    "        test_xs, test_ys = test\n",
    "        plt.plot(test_xs, test_ys, 'k--', linewidth=3, label='$y=x\\mathrm{sin}(x)$')\n",
    "\n",
    "        for f in fs:\n",
    "            plt.plot(test_xs, f(test_xs), '-', linewidth=3)\n",
    "    plt.xlim([-6., 6.])\n",
    "    plt.ylim([-6., 6.])\n",
    "    format_plot('$x$', '$y$')\n",
    "    plt.legend()"
   ]
  },
  {
   "cell_type": "markdown",
   "metadata": {
    "colab_type": "text",
    "id": "3Gm3Ij58y0QM"
   },
   "source": [
    "# Toy 1d example notebook"
   ]
  },
  {
   "cell_type": "markdown",
   "metadata": {
    "colab_type": "text",
    "id": "EEmjx3wIy-x9"
   },
   "source": [
    "The purpose of this notebook will be to demonstrate how to train Bayesian Deep Ensembles as described in our NeurIPS 2020 submission 'Bayesian Deep Ensembles via the Neural Tangent Kernel', using our provided package: `bayesian-ntk`. We will do this by going through the toy homoscedastic regression example from the submission: . The package builds on top of the [Neural Tangents](https://github.com/google/neural-tangents) library in [JAX](https://github.com/google/jax)."
   ]
  },
  {
   "cell_type": "markdown",
   "metadata": {
    "colab_type": "text",
    "id": "HP4gRsJp0fFt"
   },
   "source": [
    "The package stores default config files in `bayesian_ntk.config`. For example, our default NN baselearner models will have the following config:\n"
   ]
  },
  {
   "cell_type": "code",
   "execution_count": 4,
   "metadata": {
    "colab": {
     "base_uri": "https://localhost:8080/",
     "height": 35
    },
    "colab_type": "code",
    "id": "0EEGEgRzd7bD",
    "outputId": "f7a2a70c-d730-4572-9c81-5473a7f3cc66"
   },
   "outputs": [
    {
     "name": "stdout",
     "output_type": "stream",
     "text": [
      "{'W_std': 1.5, 'b_std': 0.05, 'width': 512, 'depth': 2, 'activation': 'erf'}\n"
     ]
    }
   ],
   "source": [
    "model_config = config.get_model_config('default')\n",
    "print(model_config)"
   ]
  },
  {
   "cell_type": "markdown",
   "metadata": {
    "colab_type": "text",
    "id": "Ekm5Wwn7LF0-"
   },
   "source": [
    "We can now use Neural Tangents to return a `kernel_fn` function that calculates the analytic NTK & NNGP kernels for an infinite width version of the NN corresponding to our `model_config` under NTK parameterisation."
   ]
  },
  {
   "cell_type": "code",
   "execution_count": 5,
   "metadata": {
    "colab": {},
    "colab_type": "code",
    "id": "Kd2JZjizd7bM"
   },
   "outputs": [],
   "source": [
    "_, _, kernel_fn = homoscedastic_model(parameterization = 'ntk', **model_config)"
   ]
  },
  {
   "cell_type": "markdown",
   "metadata": {
    "colab_type": "text",
    "id": "bOEcb-lld7bQ"
   },
   "source": [
    "Next we generate our training and test data, using the same `key` as in the paper for reproducibility. Note that `get_toy_data` returns noisy version of the train targets, in line with Lemma 3 of [Osband et al](https://papers.nips.cc/paper/8080-randomized-prior-functions-for-deep-reinforcement-learning)."
   ]
  },
  {
   "cell_type": "code",
   "execution_count": 7,
   "metadata": {
    "colab": {},
    "colab_type": "code",
    "id": "-uQ3Fc5Dd7bV"
   },
   "outputs": [],
   "source": [
    "key = random.PRNGKey(10);\n",
    "data_config = config.get_data_config('default')\n",
    "train_data, test_data = get_toy_data(key, config.NOISE_SCALE, **data_config);"
   ]
  },
  {
   "cell_type": "markdown",
   "metadata": {
    "colab_type": "text",
    "id": "F-CzOlvSRQwB"
   },
   "source": [
    "Let's visualise our train and test data"
   ]
  },
  {
   "cell_type": "code",
   "execution_count": 8,
   "metadata": {
    "colab": {
     "base_uri": "https://localhost:8080/",
     "height": 572
    },
    "colab_type": "code",
    "id": "NS77cTB7d7bZ",
    "outputId": "8caaec21-a30b-4e15-d4c0-2bd1d5141b1c"
   },
   "outputs": [
    {
     "data": {
      "image/png": "[encoded data removed]",
      "text/plain": [
       "<Figure size 432x432 with 1 Axes>"
      ]
     },
     "metadata": {},
     "output_type": "display_data"
    }
   ],
   "source": [
    "plot_fn(train_data, test_data)\n",
    "finalize_plot((1,1))"
   ]
  },
  {
   "cell_type": "markdown",
   "metadata": {
    "colab_type": "text",
    "id": "ke-R3nI-bVJ5"
   },
   "source": [
    "## Making predictions "
   ]
  },
  {
   "cell_type": "markdown",
   "metadata": {
    "colab_type": "text",
    "id": "yEWT__PdThz0"
   },
   "source": [
    "We now proceed to calculate analytic GP posterior predictives with either NNGP/NTK as prior kernel. `bayesian_ntk.predict` is a stripped down version of [`neural_tangents.predict`](https://github.com/google/neural-tangents/blob/master/neural_tangents/predict.py) that does this, with a few differences to the original version: including functionality to calculate the NTKGP posterior, as well as ability to model observation noise. Of course we won't be able to use this for larger datasets, but for our toy example we can calculate the analytic NTKGP and NNGP posteriors (with observation noise), which we shall show below, storing results in a dictionary called `predictions`:"
   ]
  },
  {
   "cell_type": "code",
   "execution_count": 10,
   "metadata": {
    "colab": {
     "base_uri": "https://localhost:8080/",
     "height": 72
    },
    "colab_type": "code",
    "id": "jqXuhSzVd7bc",
    "outputId": "349786ed-6e86-452e-e435-b539d31e2cd6"
   },
   "outputs": [],
   "source": [
    "analytic_ntkgp_moments, analytic_nngp_moments = predict.gp_inference(\n",
    "    kernel_fn = kernel_fn,\n",
    "    x_train = train_data.inputs,\n",
    "    y_train = train_data.targets,\n",
    "    x_test = test_data.inputs,\n",
    "    get = ('ntk', 'nngp'),\n",
    "    diag_reg = config.NOISE_SCALE**2,\n",
    "    compute_cov = True\n",
    ");\n",
    "\n",
    "predictions = {\n",
    "    'NTKGP analytic': analytic_ntkgp_moments,\n",
    "    'NNGP analytic': analytic_nngp_moments\n",
    "};"
   ]
  },
  {
   "cell_type": "markdown",
   "metadata": {
    "colab_type": "text",
    "id": "SFEII1YZd7bj"
   },
   "source": [
    "We now compare these analytic GP posteriors to trained ensembles from each ensemble `train_method`: deep ensemble, randomised prior parameter (RP-param) and our NTKGP-param. We will use the `vmap` function in JAX to parallelise the baselearner training function `train_model` into one ensemble training function `train_ensemble`. \n",
    "\n",
    "The modified forward passes and different regularisation functions for each ensemble `train_method` can be found in `bayesian_ntk.train_utils`, and are called within `train_model`. \n",
    "\n",
    "We aggregate ensemble predictions and store them in `predictions`, like we did for the analytic posteriors."
   ]
  },
  {
   "cell_type": "code",
   "execution_count": 11,
   "metadata": {
    "colab": {},
    "colab_type": "code",
    "id": "J0uFaBnxd7bp"
   },
   "outputs": [],
   "source": [
    "train_config = config.get_train_config('default')\n",
    "ensemble_key = random.split(key, config.ENSEMBLE_SIZE)\n",
    "train_baselearner = lambda key, train_method: train_model(key, train_method, train_data, test_data, parameterization = 'standard', **train_config)\n",
    "train_ensemble = lambda train_method: vmap(train_baselearner, (0, None))(ensemble_key, train_method)"
   ]
  },
  {
   "cell_type": "code",
   "execution_count": null,
   "metadata": {
    "colab": {
     "base_uri": "https://localhost:8080/",
     "height": 70
    },
    "colab_type": "code",
    "id": "AKXl1hOhi5gU",
    "outputId": "e6ffe387-2d48-4972-9939-b1dd0c838d14"
   },
   "outputs": [
    {
     "name": "stdout",
     "output_type": "stream",
     "text": [
      "Training ensemble method 1/3: Deep ensemble\n"
     ]
    }
   ],
   "source": [
    "ensemble_methods_list = ['Deep ensemble', 'RP-param', 'NTKGP-param']\n",
    "\n",
    "# this may take a few minutes\n",
    "for method_idx, method in enumerate(ensemble_methods_list):\n",
    "    method_input_str = train_utils.method_input_dct[method]\n",
    "    print(f\"Training ensemble method {method_idx+1}/{len(ensemble_methods_list)}: {method}\")\n",
    "    baselearners_test_pred = train_ensemble(method_input_str)\n",
    "    ensemble_mean = np.mean(baselearners_test_pred, axis = 0).reshape(-1,)\n",
    "    ensemble_var = np.var(baselearners_test_pred, axis = 0, ddof = 1).reshape(-1,)\n",
    "    ensemble_std = np.sqrt(ensemble_var + config.NOISE_SCALE ** 2)\n",
    "    predictions.update(\n",
    "        {\n",
    "            method: Gaussian(ensemble_mean, ensemble_std)\n",
    "        }\n",
    "    )"
   ]
  },
  {
   "cell_type": "markdown",
   "metadata": {
    "colab_type": "text",
    "id": "ETTO3E4mftyn"
   },
   "source": [
    "Finally, we plot mean predictions and 95% predictive CI for the different analytic posterior and ensemble methods, reproducing Figure 1 from our paper."
   ]
  },
  {
   "cell_type": "code",
   "execution_count": null,
   "metadata": {
    "cellView": "form",
    "colab": {
     "base_uri": "https://localhost:8080/",
     "height": 1000
    },
    "colab_type": "code",
    "id": "xoEOTvE1d7b0",
    "outputId": "250998ff-1d6f-4bb4-84e2-b440cfec12ef"
   },
   "outputs": [],
   "source": [
    "#@title ##### (PLOT CODE)\n",
    "plot_method_list = ['NNGP analytic'] + ensemble_methods_list\n",
    "legend = functools.partial(plt.legend, fontsize=8.5)\n",
    "for plt_idx in range(1, 5):\n",
    "    plt.subplot(2, 2, plt_idx)\n",
    "    plot_fn(train_data, test_data)\n",
    "    \n",
    "    ntkgp_moments = predictions['NTKGP analytic']\n",
    "    ntkgp_means = ntkgp_moments.mean\n",
    "    ntkgp_stds = ntkgp_moments.standard_deviation\n",
    "    plt.plot(test_data.inputs, ntkgp_means, 'r-', linewidth = 3, alpha = 0.5)\n",
    "    plt.fill_between(\n",
    "        np.reshape(test_data.inputs, (-1,)),\n",
    "        ntkgp_means - 2 * ntkgp_stds,\n",
    "        ntkgp_means + 2 * ntkgp_stds,\n",
    "        color='r',\n",
    "        alpha = 0.3\n",
    "    )\n",
    "    \n",
    "    method = plot_method_list[plt_idx - 1]\n",
    "    method_moments = predictions[method]\n",
    "    method_means = method_moments.mean\n",
    "    method_stds = method_moments.standard_deviation\n",
    "    plt.plot(test_data.inputs, method_means, 'b-', linewidth = 2, alpha = 0.5)\n",
    "    plt.fill_between(\n",
    "        np.reshape(test_data.inputs, (-1,)),\n",
    "        method_means - 2 * method_stds,\n",
    "        method_means + 2 * method_stds,\n",
    "        color='b',\n",
    "        alpha = 0.3\n",
    "    )\n",
    "    \n",
    "    legend(['Train', 'Test', 'NTKGP analytic', method], loc = 'upper left')\n",
    "    plt.xlim([-6., 6.])\n",
    "    plt.ylim([-6., 6.])\n",
    "    format_plot('$x$', '$f$')\n",
    "finalize_plot((2,2))"
   ]
  }
 ],
 "metadata": {
  "accelerator": "GPU",
  "colab": {
   "name": "toy_1d_example.ipynb",
   "provenance": [],
   "toc_visible": true
  },
  "kernelspec": {
   "display_name": "Python 3",
   "language": "python",
   "name": "python3"
  },
  "language_info": {
   "codemirror_mode": {
    "name": "ipython",
    "version": 3
   },
   "file_extension": ".py",
   "mimetype": "text/x-python",
   "name": "python",
   "nbconvert_exporter": "python",
   "pygments_lexer": "ipython3",
   "version": "3.6.9"
  }
 },
 "nbformat": 4,
 "nbformat_minor": 1
}
